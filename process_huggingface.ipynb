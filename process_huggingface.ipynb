{
 "cells": [
  {
   "cell_type": "markdown",
   "metadata": {},
   "source": [
    "# Process `thaiqa` Dataset for [huggingface/datasets](https://github.com/huggingface/datasets/)"
   ]
  },
  {
   "cell_type": "code",
   "execution_count": 68,
   "metadata": {},
   "outputs": [],
   "source": [
    "import json\n",
    "import glob\n",
    "import pandas as pd\n",
    "from bs4 import BeautifulSoup\n",
    "from tqdm.auto import tqdm\n",
    "import matplotlib.pyplot as plt\n",
    "from pythainlp.tokenize import word_tokenize"
   ]
  },
  {
   "cell_type": "code",
   "execution_count": 2,
   "metadata": {},
   "outputs": [
    {
     "data": {
      "text/plain": [
       "['thaiqa_raw/nectec-dev.json',\n",
       " 'thaiqa_raw/nectec-train.json',\n",
       " 'thaiqa_raw/ThaiQACorpus-DevelopmentDataset 2.json']"
      ]
     },
     "execution_count": 2,
     "metadata": {},
     "output_type": "execute_result"
    }
   ],
   "source": [
    "fnames = glob.glob('thaiqa_raw/*.json')\n",
    "#first two from [@kobkrit](https://github.com/kobkrit) who is the winner of 2020 competition; \n",
    "#last one from https://aiforthai.in.th/corpus.php\n",
    "fnames "
   ]
  },
  {
   "cell_type": "code",
   "execution_count": 24,
   "metadata": {},
   "outputs": [
    {
     "data": {
      "text/plain": [
       "((74, 6), (4000, 6))"
      ]
     },
     "execution_count": 24,
     "metadata": {},
     "output_type": "execute_result"
    }
   ],
   "source": [
    "train = pd.DataFrame(json.load(open(fnames[1],'r'))['data'])\n",
    "dev = pd.DataFrame(json.load(open(fnames[0],'r'))['data'])\n",
    "#remove duplicates from dev\n",
    "dev = dev[~dev.question.isin(train.question)].reset_index(drop=True)\n",
    "\n",
    "#strip space in answer_begins_position\n",
    "train.columns = [i.strip() for i in train.columns]\n",
    "dev.columns = [i.strip() for i in dev.columns]\n",
    "\n",
    "# forthai = pd.DataFrame(json.load(open(fnames[2],'r'))['data']) #same as train\n",
    "dev.shape,train.shape #,forthai.shape"
   ]
  },
  {
   "cell_type": "markdown",
   "metadata": {},
   "source": [
    "## Change to SQuAD format"
   ]
  },
  {
   "cell_type": "code",
   "execution_count": 4,
   "metadata": {},
   "outputs": [
    {
     "data": {
      "text/plain": [
       "(125302,\n",
       " ['thaiqa_raw/documents-nsc/285586.txt',\n",
       "  'thaiqa_raw/documents-nsc/806049.txt',\n",
       "  'thaiqa_raw/documents-nsc/760931.txt',\n",
       "  'thaiqa_raw/documents-nsc/132592.txt',\n",
       "  'thaiqa_raw/documents-nsc/582918.txt',\n",
       "  'thaiqa_raw/documents-nsc/878583.txt',\n",
       "  'thaiqa_raw/documents-nsc/766398.txt',\n",
       "  'thaiqa_raw/documents-nsc/444181.txt',\n",
       "  'thaiqa_raw/documents-nsc/708441.txt',\n",
       "  'thaiqa_raw/documents-nsc/323433.txt'])"
      ]
     },
     "execution_count": 4,
     "metadata": {},
     "output_type": "execute_result"
    }
   ],
   "source": [
    "wiki_names = glob.glob('thaiqa_raw/documents-nsc/*.txt')\n",
    "len(wiki_names), wiki_names[:10]"
   ]
  },
  {
   "cell_type": "code",
   "execution_count": 5,
   "metadata": {},
   "outputs": [
    {
     "data": {
      "application/vnd.jupyter.widget-view+json": {
       "model_id": "5c6d8dda1d714728af6bfa5ca56a61df",
       "version_major": 2,
       "version_minor": 0
      },
      "text/plain": [
       "HBox(children=(FloatProgress(value=0.0, max=125302.0), HTML(value='')))"
      ]
     },
     "metadata": {},
     "output_type": "display_data"
    },
    {
     "name": "stdout",
     "output_type": "stream",
     "text": [
      "\n"
     ]
    },
    {
     "data": {
      "text/html": [
       "<div>\n",
       "<style scoped>\n",
       "    .dataframe tbody tr th:only-of-type {\n",
       "        vertical-align: middle;\n",
       "    }\n",
       "\n",
       "    .dataframe tbody tr th {\n",
       "        vertical-align: top;\n",
       "    }\n",
       "\n",
       "    .dataframe thead th {\n",
       "        text-align: right;\n",
       "    }\n",
       "</style>\n",
       "<table border=\"1\" class=\"dataframe\">\n",
       "  <thead>\n",
       "    <tr style=\"text-align: right;\">\n",
       "      <th></th>\n",
       "      <th>article_id</th>\n",
       "      <th>context</th>\n",
       "    </tr>\n",
       "  </thead>\n",
       "  <tbody>\n",
       "    <tr>\n",
       "      <th>0</th>\n",
       "      <td>285586</td>\n",
       "      <td>&lt;doc id=\"285586\" url=\"https://th.wikipedia.org...</td>\n",
       "    </tr>\n",
       "    <tr>\n",
       "      <th>1</th>\n",
       "      <td>806049</td>\n",
       "      <td>&lt;doc id=\"806049\" url=\"https://th.wikipedia.org...</td>\n",
       "    </tr>\n",
       "    <tr>\n",
       "      <th>2</th>\n",
       "      <td>760931</td>\n",
       "      <td>&lt;doc id=\"760931\" url=\"https://th.wikipedia.org...</td>\n",
       "    </tr>\n",
       "    <tr>\n",
       "      <th>3</th>\n",
       "      <td>132592</td>\n",
       "      <td>&lt;doc id=\"132592\" url=\"https://th.wikipedia.org...</td>\n",
       "    </tr>\n",
       "    <tr>\n",
       "      <th>4</th>\n",
       "      <td>582918</td>\n",
       "      <td>&lt;doc id=\"582918\" url=\"https://th.wikipedia.org...</td>\n",
       "    </tr>\n",
       "    <tr>\n",
       "      <th>...</th>\n",
       "      <td>...</td>\n",
       "      <td>...</td>\n",
       "    </tr>\n",
       "    <tr>\n",
       "      <th>125297</th>\n",
       "      <td>94304</td>\n",
       "      <td>&lt;doc id=\"94304\" url=\"https://th.wikipedia.org/...</td>\n",
       "    </tr>\n",
       "    <tr>\n",
       "      <th>125298</th>\n",
       "      <td>776192</td>\n",
       "      <td>&lt;doc id=\"776192\" url=\"https://th.wikipedia.org...</td>\n",
       "    </tr>\n",
       "    <tr>\n",
       "      <th>125299</th>\n",
       "      <td>932487</td>\n",
       "      <td>&lt;doc id=\"932487\" url=\"https://th.wikipedia.org...</td>\n",
       "    </tr>\n",
       "    <tr>\n",
       "      <th>125300</th>\n",
       "      <td>29685</td>\n",
       "      <td>&lt;doc id=\"29685\" url=\"https://th.wikipedia.org/...</td>\n",
       "    </tr>\n",
       "    <tr>\n",
       "      <th>125301</th>\n",
       "      <td>279724</td>\n",
       "      <td>&lt;doc id=\"279724\" url=\"https://th.wikipedia.org...</td>\n",
       "    </tr>\n",
       "  </tbody>\n",
       "</table>\n",
       "<p>125302 rows × 2 columns</p>\n",
       "</div>"
      ],
      "text/plain": [
       "        article_id                                            context\n",
       "0           285586  <doc id=\"285586\" url=\"https://th.wikipedia.org...\n",
       "1           806049  <doc id=\"806049\" url=\"https://th.wikipedia.org...\n",
       "2           760931  <doc id=\"760931\" url=\"https://th.wikipedia.org...\n",
       "3           132592  <doc id=\"132592\" url=\"https://th.wikipedia.org...\n",
       "4           582918  <doc id=\"582918\" url=\"https://th.wikipedia.org...\n",
       "...            ...                                                ...\n",
       "125297       94304  <doc id=\"94304\" url=\"https://th.wikipedia.org/...\n",
       "125298      776192  <doc id=\"776192\" url=\"https://th.wikipedia.org...\n",
       "125299      932487  <doc id=\"932487\" url=\"https://th.wikipedia.org...\n",
       "125300       29685  <doc id=\"29685\" url=\"https://th.wikipedia.org/...\n",
       "125301      279724  <doc id=\"279724\" url=\"https://th.wikipedia.org...\n",
       "\n",
       "[125302 rows x 2 columns]"
      ]
     },
     "execution_count": 5,
     "metadata": {},
     "output_type": "execute_result"
    }
   ],
   "source": [
    "wiki_dfs = []\n",
    "for wiki_name in tqdm(wiki_names):\n",
    "    with open(wiki_name,'r') as f:\n",
    "        line = f.readline()\n",
    "#         soup = BeautifulSoup(line)\n",
    "#         text = soup.text\n",
    "        wiki_dfs.append({'article_id':wiki_name.split('/')[-1].split('.')[0],'context':line})\n",
    "wiki_df = pd.DataFrame(wiki_dfs)\n",
    "wiki_df['article_id'] = wiki_df.article_id.astype(int)\n",
    "wiki_df"
   ]
  },
  {
   "cell_type": "code",
   "execution_count": 40,
   "metadata": {},
   "outputs": [
    {
     "data": {
      "text/plain": [
       "((4000, 7), (74, 7))"
      ]
     },
     "execution_count": 40,
     "metadata": {},
     "output_type": "execute_result"
    }
   ],
   "source": [
    "train = train.merge(wiki_df, on='article_id')\n",
    "dev = dev.merge(wiki_df, on='article_id')\n",
    "train['answer_begin_position']-=1\n",
    "dev['answer_begin_position']-=1\n",
    "train['answer_end_position']-=1\n",
    "dev['answer_end_position']-=1\n",
    "train.shape,dev.shape"
   ]
  },
  {
   "cell_type": "code",
   "execution_count": 45,
   "metadata": {},
   "outputs": [
    {
     "data": {
      "text/plain": [
       "1.0"
      ]
     },
     "execution_count": 45,
     "metadata": {},
     "output_type": "execute_result"
    }
   ],
   "source": [
    "#check if answers corresponds position\n",
    "(train.answer==train.apply(lambda row: \n",
    "                          row['context'][int(row['answer_begin_position']):int(row['answer_end_position'])],1)).mean()"
   ]
  },
  {
   "cell_type": "code",
   "execution_count": 46,
   "metadata": {},
   "outputs": [
    {
     "data": {
      "text/plain": [
       "1.0"
      ]
     },
     "execution_count": 46,
     "metadata": {},
     "output_type": "execute_result"
    }
   ],
   "source": [
    "#check if answers corresponds position\n",
    "(dev.answer==dev.apply(lambda row: \n",
    "                          row['context'][int(row['answer_begin_position']):int(row['answer_end_position'])],1)).mean()"
   ]
  },
  {
   "cell_type": "code",
   "execution_count": 49,
   "metadata": {},
   "outputs": [
    {
     "data": {
      "text/plain": [
       "((74, 7), (4000, 7))"
      ]
     },
     "execution_count": 49,
     "metadata": {},
     "output_type": "execute_result"
    }
   ],
   "source": [
    "dev.shape,train.shape"
   ]
  },
  {
   "cell_type": "code",
   "execution_count": 53,
   "metadata": {},
   "outputs": [],
   "source": [
    "#save\n",
    "train.to_json('data/train.json;',orient='records',lines=True)\n",
    "dev.to_json('data/dev.jsonl',orient='records',lines=True)"
   ]
  },
  {
   "cell_type": "markdown",
   "metadata": {},
   "source": [
    "## Exploration"
   ]
  },
  {
   "cell_type": "markdown",
   "metadata": {},
   "source": [
    "### Questions"
   ]
  },
  {
   "cell_type": "code",
   "execution_count": 58,
   "metadata": {},
   "outputs": [
    {
     "data": {
      "text/plain": [
       "((4000, 7), 2289, (74, 7), 74)"
      ]
     },
     "execution_count": 58,
     "metadata": {},
     "output_type": "execute_result"
    }
   ],
   "source": [
    "#2289 articles out of 4000 questions for train; all unique articles for all 74 dev questions\n",
    "train.shape, train.article_id.nunique(), dev.shape, dev.article_id.nunique()"
   ]
  },
  {
   "cell_type": "code",
   "execution_count": 67,
   "metadata": {},
   "outputs": [
    {
     "data": {
      "text/plain": [
       "[<matplotlib.lines.Line2D at 0x1245a8e20>]"
      ]
     },
     "execution_count": 67,
     "metadata": {},
     "output_type": "execute_result"
    },
    {
     "data": {
      "image/png": "[encoded data removed]",
      "text/plain": [
       "<Figure size 432x288 with 1 Axes>"
      ]
     },
     "metadata": {
      "needs_background": "light"
     },
     "output_type": "display_data"
    }
   ],
   "source": [
    "#most articles feature in 1-2 questions\n",
    "plt.plot(train.article_id.value_counts().tolist())"
   ]
  },
  {
   "cell_type": "markdown",
   "metadata": {},
   "source": [
    "### Word Counts"
   ]
  },
  {
   "cell_type": "code",
   "execution_count": 69,
   "metadata": {},
   "outputs": [],
   "source": [
    "#word counts\n",
    "train['nb_context'] = train.context.map(lambda x: len(word_tokenize(x)))\n",
    "train['nb_question'] = train.question.map(lambda x: len(word_tokenize(x)))\n",
    "train['nb_answer'] = train.answer.map(lambda x: len(word_tokenize(x)))"
   ]
  },
  {
   "cell_type": "code",
   "execution_count": 77,
   "metadata": {},
   "outputs": [
    {
     "data": {
      "text/plain": [
       "count     4000.000000\n",
       "mean      1186.740750\n",
       "std       2044.117592\n",
       "min         55.000000\n",
       "25%        281.000000\n",
       "50%        526.500000\n",
       "75%       1168.500000\n",
       "max      21353.000000\n",
       "Name: nb_context, dtype: float64"
      ]
     },
     "execution_count": 77,
     "metadata": {},
     "output_type": "execute_result"
    }
   ],
   "source": [
    "train.nb_context.describe()"
   ]
  },
  {
   "cell_type": "code",
   "execution_count": 71,
   "metadata": {},
   "outputs": [
    {
     "data": {
      "text/plain": [
       "<AxesSubplot:>"
      ]
     },
     "execution_count": 71,
     "metadata": {},
     "output_type": "execute_result"
    },
    {
     "data": {
      "image/png": "[encoded data removed]",
      "text/plain": [
       "<Figure size 432x288 with 1 Axes>"
      ]
     },
     "metadata": {
      "needs_background": "light"
     },
     "output_type": "display_data"
    }
   ],
   "source": [
    "train.nb_context.hist(bins=100)"
   ]
  },
  {
   "cell_type": "code",
   "execution_count": 78,
   "metadata": {},
   "outputs": [
    {
     "data": {
      "text/plain": [
       "count    4000.000000\n",
       "mean       14.325500\n",
       "std         5.578201\n",
       "min         3.000000\n",
       "25%        10.000000\n",
       "50%        13.000000\n",
       "75%        18.000000\n",
       "max        38.000000\n",
       "Name: nb_question, dtype: float64"
      ]
     },
     "execution_count": 78,
     "metadata": {},
     "output_type": "execute_result"
    }
   ],
   "source": [
    "train.nb_question.describe()"
   ]
  },
  {
   "cell_type": "code",
   "execution_count": 76,
   "metadata": {},
   "outputs": [
    {
     "data": {
      "text/plain": [
       "<AxesSubplot:>"
      ]
     },
     "execution_count": 76,
     "metadata": {},
     "output_type": "execute_result"
    },
    {
     "data": {
      "image/png": "[encoded data removed]",
      "text/plain": [
       "<Figure size 432x288 with 1 Axes>"
      ]
     },
     "metadata": {
      "needs_background": "light"
     },
     "output_type": "display_data"
    }
   ],
   "source": [
    "train.nb_question.hist(bins=100)"
   ]
  },
  {
   "cell_type": "code",
   "execution_count": 79,
   "metadata": {},
   "outputs": [
    {
     "data": {
      "text/plain": [
       "count    4000.000000\n",
       "mean        3.279750\n",
       "std         2.820191\n",
       "min         1.000000\n",
       "25%         1.000000\n",
       "50%         2.000000\n",
       "75%         5.000000\n",
       "max        31.000000\n",
       "Name: nb_answer, dtype: float64"
      ]
     },
     "execution_count": 79,
     "metadata": {},
     "output_type": "execute_result"
    }
   ],
   "source": [
    "train.nb_answer.describe()"
   ]
  },
  {
   "cell_type": "code",
   "execution_count": 72,
   "metadata": {},
   "outputs": [
    {
     "data": {
      "text/plain": [
       "<AxesSubplot:>"
      ]
     },
     "execution_count": 72,
     "metadata": {},
     "output_type": "execute_result"
    },
    {
     "data": {
      "image/png": "[encoded data removed]",
      "text/plain": [
       "<Figure size 432x288 with 1 Axes>"
      ]
     },
     "metadata": {
      "needs_background": "light"
     },
     "output_type": "display_data"
    }
   ],
   "source": [
    "train.nb_answer.hist(bins=100)"
   ]
  },
  {
   "cell_type": "code",
   "execution_count": 80,
   "metadata": {},
   "outputs": [],
   "source": [
    "#word counts\n",
    "dev['nb_context'] = dev.context.map(lambda x: len(word_tokenize(x)))\n",
    "dev['nb_question'] = dev.question.map(lambda x: len(word_tokenize(x)))\n",
    "dev['nb_answer'] = dev.answer.map(lambda x: len(word_tokenize(x)))"
   ]
  },
  {
   "cell_type": "code",
   "execution_count": 81,
   "metadata": {},
   "outputs": [
    {
     "data": {
      "text/plain": [
       "count       74.000000\n",
       "mean      1016.459459\n",
       "std       1897.453710\n",
       "min         64.000000\n",
       "25%        257.000000\n",
       "50%        496.500000\n",
       "75%        972.500000\n",
       "max      14294.000000\n",
       "Name: nb_context, dtype: float64"
      ]
     },
     "execution_count": 81,
     "metadata": {},
     "output_type": "execute_result"
    }
   ],
   "source": [
    "dev.nb_context.describe()"
   ]
  },
  {
   "cell_type": "code",
   "execution_count": 82,
   "metadata": {},
   "outputs": [
    {
     "data": {
      "text/plain": [
       "<AxesSubplot:>"
      ]
     },
     "execution_count": 82,
     "metadata": {},
     "output_type": "execute_result"
    },
    {
     "data": {
      "image/png": "[encoded data removed]",
      "text/plain": [
       "<Figure size 432x288 with 1 Axes>"
      ]
     },
     "metadata": {
      "needs_background": "light"
     },
     "output_type": "display_data"
    }
   ],
   "source": [
    "dev.nb_context.hist(bins=100)"
   ]
  },
  {
   "cell_type": "code",
   "execution_count": 83,
   "metadata": {},
   "outputs": [
    {
     "data": {
      "text/plain": [
       "count    74.000000\n",
       "mean     12.743243\n",
       "std       5.104553\n",
       "min       5.000000\n",
       "25%       9.000000\n",
       "50%      12.000000\n",
       "75%      17.000000\n",
       "max      32.000000\n",
       "Name: nb_question, dtype: float64"
      ]
     },
     "execution_count": 83,
     "metadata": {},
     "output_type": "execute_result"
    }
   ],
   "source": [
    "dev.nb_question.describe()"
   ]
  },
  {
   "cell_type": "code",
   "execution_count": 84,
   "metadata": {},
   "outputs": [
    {
     "data": {
      "text/plain": [
       "<AxesSubplot:>"
      ]
     },
     "execution_count": 84,
     "metadata": {},
     "output_type": "execute_result"
    },
    {
     "data": {
      "image/png": "[encoded data removed]",
      "text/plain": [
       "<Figure size 432x288 with 1 Axes>"
      ]
     },
     "metadata": {
      "needs_background": "light"
     },
     "output_type": "display_data"
    }
   ],
   "source": [
    "dev.nb_question.hist(bins=100)"
   ]
  },
  {
   "cell_type": "code",
   "execution_count": 85,
   "metadata": {},
   "outputs": [
    {
     "data": {
      "text/plain": [
       "count    74.000000\n",
       "mean      4.608108\n",
       "std       3.891746\n",
       "min       1.000000\n",
       "25%       2.000000\n",
       "50%       4.000000\n",
       "75%       6.000000\n",
       "max      23.000000\n",
       "Name: nb_answer, dtype: float64"
      ]
     },
     "execution_count": 85,
     "metadata": {},
     "output_type": "execute_result"
    }
   ],
   "source": [
    "dev.nb_answer.describe()"
   ]
  },
  {
   "cell_type": "code",
   "execution_count": 86,
   "metadata": {},
   "outputs": [
    {
     "data": {
      "text/plain": [
       "<AxesSubplot:>"
      ]
     },
     "execution_count": 86,
     "metadata": {},
     "output_type": "execute_result"
    },
    {
     "data": {
      "image/png": "[encoded data removed]",
      "text/plain": [
       "<Figure size 432x288 with 1 Axes>"
      ]
     },
     "metadata": {
      "needs_background": "light"
     },
     "output_type": "display_data"
    }
   ],
   "source": [
    "dev.nb_answer.hist(bins=100)"
   ]
  },
  {
   "cell_type": "code",
   "execution_count": null,
   "metadata": {},
   "outputs": [],
   "source": []
  }
 ],
 "metadata": {
  "hide_input": false,
  "kernelspec": {
   "display_name": "Python 3",
   "language": "python",
   "name": "python3"
  },
  "language_info": {
   "codemirror_mode": {
    "name": "ipython",
    "version": 3
   },
   "file_extension": ".py",
   "mimetype": "text/x-python",
   "name": "python",
   "nbconvert_exporter": "python",
   "pygments_lexer": "ipython3",
   "version": "3.8.4"
  }
 },
 "nbformat": 4,
 "nbformat_minor": 4
}
